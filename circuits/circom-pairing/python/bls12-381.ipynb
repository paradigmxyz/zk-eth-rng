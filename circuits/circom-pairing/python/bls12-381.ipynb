{
 "cells": [
  {
   "cell_type": "code",
   "execution_count": 1,
   "id": "da444aaf",
   "metadata": {},
   "outputs": [
    {
     "name": "stdout",
     "output_type": "stream",
     "text": [
      "TRUE\n",
      "[4, 0, 0, 0, 0, 0, 0, 0, 0, 0, 0, 0]\n",
      "4002409555221667393417789825735904156556882819939007885332058136124031650490837864442687629129015664037894272559787\n"
     ]
    }
   ],
   "source": [
    "import curve"
   ]
  },
  {
   "cell_type": "code",
   "execution_count": 148,
   "id": "968dc802",
   "metadata": {},
   "outputs": [],
   "source": [
    "#from py_ecc.fields import (\n",
    "#    bls12_381_FQ as FQ,\n",
    "#    bls12_381_FQ2 as FQ2,\n",
    "#    bls12_381_FQ12 as FQ12,\n",
    "#)\n",
    "from curve_field_elements import field_modulus, FQ, FQ2, FQ12\n",
    "from field_helper import numberToBase, numberToArray, printEllipticPoint, Fp12convert, convert_out_to_Fp12, printFQ, printFQ2, printFQ12, print_fq12_frobenius_coeff\n",
    "from miller_pseudocode import exp"
   ]
  },
  {
   "cell_type": "code",
   "execution_count": 3,
   "id": "c63f3028",
   "metadata": {},
   "outputs": [
    {
     "name": "stdout",
     "output_type": "stream",
     "text": [
      "52435875175126190479447740508185965837690552500527637822603658699938581184513\n"
     ]
    }
   ],
   "source": [
    "q = curve.field_modulus\n",
    "q == 0x1a0111ea397fe69a4b1ba7b6434bacd764774b84f38512bf6730d2a0f6b0f6241eabfffeb153ffffb9feffffffffaaab\n",
    "r = curve.curve_order\n",
    "x = -2**63 - 2**62 - 2**60 - 2**57 - 2**48 - 2**16\n",
    "print(r)"
   ]
  },
  {
   "cell_type": "code",
   "execution_count": 4,
   "id": "e92387f7",
   "metadata": {},
   "outputs": [
    {
     "name": "stdout",
     "output_type": "stream",
     "text": [
      "[35747322042231467, 36025922209447795, 1084959616957103, 7925923977987733, 16551456537884751, 23443114579904617, 1829881462546425]\n"
     ]
    }
   ],
   "source": [
    "print(numberToArray(q, 55,7))"
   ]
  },
  {
   "cell_type": "code",
   "execution_count": 5,
   "id": "96ecf730",
   "metadata": {},
   "outputs": [
    {
     "name": "stdout",
     "output_type": "stream",
     "text": [
      "[\n",
      "[\"5440959206139905\",\n",
      "\"5515662923731907\",\n",
      "\"10491004233861355\",\n",
      "\"28691331721860307\",\n",
      "\"27955817036233384\",\n",
      "\"18631882631076677\",\n",
      "\"907600843284315\"],\n",
      "[\"11548582681213374\",\n",
      "\"7404909498155861\",\n",
      "\"12768329608264924\",\n",
      "\"12731371725497493\",\n",
      "\"11463081752430568\",\n",
      "\"7184576637437304\",\n",
      "\"424072857758157\"]]\n"
     ]
    }
   ],
   "source": [
    "printFQ2(curve.G2[1], 55, 7)"
   ]
  },
  {
   "cell_type": "code",
   "execution_count": 13,
   "id": "eb7bd772",
   "metadata": {},
   "outputs": [
    {
     "name": "stdout",
     "output_type": "stream",
     "text": [
      "[16589478066046651, 22658679592837110, 35004527604248919, 16789302793630161, 7530538873701625, 32234187716135413, 1684953952445941] [11860609209853921, 4091579406338073, 12578493816062195, 13088963032438982, 24961455755233629, 8501508834176643, 612415636564648]\n"
     ]
    }
   ],
   "source": [
    "printEllipticPoint(P=curve.G1, n=55, k=7)"
   ]
  },
  {
   "cell_type": "code",
   "execution_count": 9,
   "id": "26a7c330",
   "metadata": {},
   "outputs": [],
   "source": [
    "#Fp12convert(curve.G12[1], n=55, k=7)"
   ]
  },
  {
   "cell_type": "code",
   "execution_count": 4,
   "id": "65bcaed3",
   "metadata": {},
   "outputs": [],
   "source": [
    "import miller_pseudocode as miller"
   ]
  },
  {
   "cell_type": "code",
   "execution_count": 5,
   "id": "d34e6dfb",
   "metadata": {},
   "outputs": [],
   "source": [
    "from curve import double, add, neg, multiply, is_on_curve, twist, b, b2, curve_order, G1\n",
    "from pairing import linefunc, cast_point_to_fq12\n",
    "def miller_loop(Q, P, loop_len=abs(x), f0 = FQ12.one()):\n",
    "    if Q is None or P is None:\n",
    "        return FQ12.one()\n",
    "    R = neg(Q)\n",
    "    f = f0\n",
    "    loop_bits = loop_len.bit_length()\n",
    "    #print(loop_bits)\n",
    "    for i in range(loop_bits - 2, -1, -1):\n",
    "        f = f * f * linefunc(R, R, P)\n",
    "        R = double(R)\n",
    "        if loop_len & (2**i):\n",
    "            f = f * f0 * linefunc(R, neg(Q), P)\n",
    "            R = add(R, neg(Q))\n",
    "    return f\n",
    "def final_exp(f):\n",
    "    return miller.exp(f, (q**12 - 1)//r)\n",
    "def pairing(Q, P):\n",
    "    return final_exp(miller_loop(twist(Q), cast_point_to_fq12(P)))"
   ]
  },
  {
   "cell_type": "code",
   "execution_count": 19,
   "id": "7c0de096",
   "metadata": {
    "scrolled": true
   },
   "outputs": [],
   "source": [
    "import random\n",
    "\n",
    "privkey = random.randrange(0, r)\n",
    "hashm = random.randrange(0,r)"
   ]
  },
  {
   "cell_type": "code",
   "execution_count": 20,
   "id": "3d83811f",
   "metadata": {},
   "outputs": [],
   "source": [
    "pubkey = multiply(curve.G1, privkey)\n",
    "Hm = multiply(curve.G2, hashm)\n",
    "signature = multiply(Hm, privkey)\n",
    "fakesignature = multiply(Hm, random.randrange(0,r))"
   ]
  },
  {
   "cell_type": "code",
   "execution_count": 25,
   "id": "7848fb50",
   "metadata": {},
   "outputs": [
    {
     "name": "stdout",
     "output_type": "stream",
     "text": [
      "[\n",
      "[\"22989519696062370\",\n",
      "\"23807086337582295\",\n",
      "\"25548406610603177\",\n",
      "\"7283579713607610\",\n",
      "\"23043507875395192\",\n",
      "\"30305745691844326\",\n",
      "\"1820431902321801\"],\n",
      "[\"25073846242665707\",\n",
      "\"1491022331301032\",\n",
      "\"14148517016494692\",\n",
      "\"19456402486581811\",\n",
      "\"2179787861152516\",\n",
      "\"4544593287484104\",\n",
      "\"1525751401169180\"]]\n",
      "[\n",
      "[\"16699028771541731\",\n",
      "\"33892025031552853\",\n",
      "\"20275091305085540\",\n",
      "\"7171631891112067\",\n",
      "\"5608067197440199\",\n",
      "\"27224833695244904\",\n",
      "\"919565793686528\"],\n",
      "[\"20138710041507375\",\n",
      "\"17277134432719975\",\n",
      "\"8191063777226930\",\n",
      "\"17756308295435455\",\n",
      "\"1593299935390626\",\n",
      "\"5433907724578608\",\n",
      "\"1212723182108621\"]]\n"
     ]
    },
    {
     "data": {
      "text/plain": [
       "(None, None)"
      ]
     },
     "execution_count": 25,
     "metadata": {},
     "output_type": "execute_result"
    }
   ],
   "source": [
    "printFQ2(Hm[0], 55, 7), printFQ2(Hm[1], 55, 7)"
   ]
  },
  {
   "cell_type": "code",
   "execution_count": 9,
   "id": "e0b54ea8",
   "metadata": {},
   "outputs": [
    {
     "data": {
      "text/plain": [
       "[1, 0, 0, 0, 0, 0, 0, 0, 0, 0, 0, 0]"
      ]
     },
     "execution_count": 9,
     "metadata": {},
     "output_type": "execute_result"
    }
   ],
   "source": [
    "pairing(Hm, pubkey) / pairing(signature, curve.G1)"
   ]
  },
  {
   "cell_type": "code",
   "execution_count": 99,
   "id": "bc085623",
   "metadata": {},
   "outputs": [],
   "source": [
    "# 3-isogeny E2' to E2 coefficients\n",
    "xnum = [ FQ2([0x5c759507e8e333ebb5b7a9a47d7ed8532c52d39fd3a042a88b58423c50ae15d5c2638e343d9c71c6238aaaaaaaa97d6,\n",
    "                0x5c759507e8e333ebb5b7a9a47d7ed8532c52d39fd3a042a88b58423c50ae15d5c2638e343d9c71c6238aaaaaaaa97d6]),\n",
    "         FQ2([0x0,\n",
    "                0x11560bf17baa99bc32126fced787c88f984f87adf7ae0c7f9a208c6b4f20a4181472aaa9cb8d555526a9ffffffffc71a]),\n",
    "         FQ2([0x11560bf17baa99bc32126fced787c88f984f87adf7ae0c7f9a208c6b4f20a4181472aaa9cb8d555526a9ffffffffc71e,\n",
    "                0x8ab05f8bdd54cde190937e76bc3e447cc27c3d6fbd7063fcd104635a790520c0a395554e5c6aaaa9354ffffffffe38d]),\n",
    "         FQ2([0x171d6541fa38ccfaed6dea691f5fb614cb14b4e7f4e810aa22d6108f142b85757098e38d0f671c7188e2aaaaaaaa5ed1,\n",
    "                0x0]) ]\n",
    "xden = [ FQ2([0x0,\n",
    "                0x1a0111ea397fe69a4b1ba7b6434bacd764774b84f38512bf6730d2a0f6b0f6241eabfffeb153ffffb9feffffffffaa63]),\n",
    "         FQ2( [0xc,\n",
    "                0x1a0111ea397fe69a4b1ba7b6434bacd764774b84f38512bf6730d2a0f6b0f6241eabfffeb153ffffb9feffffffffaa9f]),\n",
    "         FQ2( [0x1,\n",
    "                0x0]),\n",
    "         FQ2( [0,0] ) ]\n",
    "ynum = [ FQ2([0x1530477c7ab4113b59a4c18b076d11930f7da5d4a07f649bf54439d87d27e500fc8c25ebf8c92f6812cfc71c71c6d706,\n",
    "                0x1530477c7ab4113b59a4c18b076d11930f7da5d4a07f649bf54439d87d27e500fc8c25ebf8c92f6812cfc71c71c6d706]),\n",
    "         FQ2([0x0,\n",
    "                0x5c759507e8e333ebb5b7a9a47d7ed8532c52d39fd3a042a88b58423c50ae15d5c2638e343d9c71c6238aaaaaaaa97be]),\n",
    "         FQ2([0x11560bf17baa99bc32126fced787c88f984f87adf7ae0c7f9a208c6b4f20a4181472aaa9cb8d555526a9ffffffffc71c,\n",
    "                0x8ab05f8bdd54cde190937e76bc3e447cc27c3d6fbd7063fcd104635a790520c0a395554e5c6aaaa9354ffffffffe38f]),\n",
    "         FQ2([0x124c9ad43b6cf79bfbf7043de3811ad0761b0f37a1e26286b0e977c69aa274524e79097a56dc4bd9e1b371c71c718b10,\n",
    "                0x0]) ]\n",
    "yden = [ FQ2([0x1a0111ea397fe69a4b1ba7b6434bacd764774b84f38512bf6730d2a0f6b0f6241eabfffeb153ffffb9feffffffffa8fb,\n",
    "                0x1a0111ea397fe69a4b1ba7b6434bacd764774b84f38512bf6730d2a0f6b0f6241eabfffeb153ffffb9feffffffffa8fb]),\n",
    "         FQ2([0x0,\n",
    "                0x1a0111ea397fe69a4b1ba7b6434bacd764774b84f38512bf6730d2a0f6b0f6241eabfffeb153ffffb9feffffffffa9d3]),\n",
    "         FQ2([0x12,\n",
    "                0x1a0111ea397fe69a4b1ba7b6434bacd764774b84f38512bf6730d2a0f6b0f6241eabfffeb153ffffb9feffffffffaa99]),\n",
    "         FQ2([0x1,\n",
    "                0x0]) ]\n",
    "coeffs = [xnum, xden, ynum, yden]\n",
    "coeffs_array = []\n",
    "for c in coeffs:\n",
    "    coeffs_array.append([[numberToArray(b.coeffs[0].n, 55, 7), numberToArray(b.coeffs[1].n, 55, 7)] for b in c])"
   ]
  },
  {
   "cell_type": "code",
   "execution_count": 105,
   "id": "49427e3c",
   "metadata": {},
   "outputs": [],
   "source": [
    "#for i in range(4):\n",
    "#    for j in range(4):\n",
    "#        for l in range(2):\n",
    "#            print(f\"coeffs[{i}][{j}][{l}] = \", end=\"\")\n",
    "#            print(coeffs_array[i][j][l], end=\";\\n\")"
   ]
  },
  {
   "cell_type": "code",
   "execution_count": 134,
   "id": "a25bf606",
   "metadata": {},
   "outputs": [],
   "source": [
    "arr = [ [ numberToArray(b.n, 55, 7) for b in c.coeffs] for c in curve.G2]"
   ]
  },
  {
   "cell_type": "code",
   "execution_count": 137,
   "id": "c54503f9",
   "metadata": {},
   "outputs": [
    {
     "name": "stdout",
     "output_type": "stream",
     "text": [
      "g2[0][0] = [95420233661880, 1773856045391785, 5044075188989616, 23082975677810779, 22805092780977487, 23121359448368568, 161253150172098];\n",
      "g2[0][1] = [12522360964131710, 27624298323292107, 31369054948478259, 20553930357265165, 32921944760061193, 30416570139545860, 1398625365433447];\n",
      "g2[1][0] = [5440959206139905, 5515662923731907, 10491004233861355, 28691331721860307, 27955817036233384, 18631882631076677, 907600843284315];\n",
      "g2[1][1] = [11548582681213374, 7404909498155861, 12768329608264924, 12731371725497493, 11463081752430568, 7184576637437304, 424072857758157];\n"
     ]
    }
   ],
   "source": [
    "for i in range(2):\n",
    "    for j in range(2):\n",
    "        print(f\"g2[{i}][{j}] = \", end=\"\")\n",
    "        print(arr[i][j], end=\";\\n\")"
   ]
  },
  {
   "cell_type": "code",
   "execution_count": 143,
   "id": "71ce38da",
   "metadata": {},
   "outputs": [],
   "source": [
    "out = [ \"27884767026407891\",\n",
    " \"4525360913426488\",\n",
    " \"991587327030683\",\n",
    " \"23335191372164909\",\n",
    " \"35821225693990941\",\n",
    " \"8502773309847038\",\n",
    " \"931818339881768\",\n",
    " \"23558617662484340\",\n",
    " \"1755539777993219\",\n",
    " \"20293744031359488\",\n",
    " \"19700108927825630\",\n",
    " \"28023258827593336\",\n",
    " \"7989688896250189\",\n",
    " \"279130932169775\",\n",
    " \"6999493181605224\",\n",
    " \"15877935146814572\",\n",
    " \"34605329068848078\",\n",
    " \"33223063651198065\",\n",
    " \"651941095117987\",\n",
    " \"15881848215121610\",\n",
    " \"1255304257292602\",\n",
    " \"29940241938544130\",\n",
    " \"20329595587854853\",\n",
    " \"1709795106623908\",\n",
    " \"20384090257468862\",\n",
    " \"1439373215787060\",\n",
    " \"7148972841708048\",\n",
    " \"220259269905836\"]\n",
    "nums = []\n",
    "for i in range(4):\n",
    "    num = 0\n",
    "    for idx in range(7):\n",
    "        num = num + int(out[7*i+idx]) * (2**55)**idx\n",
    "    nums.append(num)"
   ]
  },
  {
   "cell_type": "code",
   "execution_count": 149,
   "id": "a627e185",
   "metadata": {},
   "outputs": [
    {
     "data": {
      "text/plain": [
       "True"
      ]
     },
     "execution_count": 149,
     "metadata": {},
     "output_type": "execute_result"
    }
   ],
   "source": [
    "curve.is_on_curve( (FQ2([nums[0], nums[1]]), FQ2([nums[2],nums[3]])), curve.b2 )"
   ]
  },
  {
   "cell_type": "code",
   "execution_count": 152,
   "id": "e0536fb4",
   "metadata": {},
   "outputs": [
    {
     "data": {
      "text/plain": [
       "True"
      ]
     },
     "execution_count": 152,
     "metadata": {},
     "output_type": "execute_result"
    }
   ],
   "source": [
    "curve.multiply( (FQ2([nums[0], nums[1]]), FQ2([nums[2],nums[3]])), r ) == None"
   ]
  },
  {
   "cell_type": "code",
   "execution_count": null,
   "id": "c4b344be",
   "metadata": {},
   "outputs": [],
   "source": []
  }
 ],
 "metadata": {
  "kernelspec": {
   "display_name": "Python 3 (ipykernel)",
   "language": "python",
   "name": "python3"
  },
  "language_info": {
   "codemirror_mode": {
    "name": "ipython",
    "version": 3
   },
   "file_extension": ".py",
   "mimetype": "text/x-python",
   "name": "python",
   "nbconvert_exporter": "python",
   "pygments_lexer": "ipython3",
   "version": "3.10.2"
  }
 },
 "nbformat": 4,
 "nbformat_minor": 5
}
